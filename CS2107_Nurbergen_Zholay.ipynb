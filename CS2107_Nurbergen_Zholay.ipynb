{
 "cells": [
  {
   "cell_type": "markdown",
   "id": "bec1ddd0",
   "metadata": {},
   "source": [
    "# Big Data in Law Enforcement"
   ]
  },
  {
   "cell_type": "markdown",
   "id": "de116bed",
   "metadata": {},
   "source": [
    "## Introduction"
   ]
  },
  {
   "cell_type": "markdown",
   "id": "d365e8f1",
   "metadata": {},
   "source": [
    "**Objectives**\n",
    "* Popular languages for Data Scientists.\n",
    "* Commonly used libraries in Big Data.\n",
    "* What kind of Data Science tools there are?\n",
    "* Execution of expression (4*6)+9.\n",
    "* Finding a number of hours, when we know only a number of minutes."
   ]
  },
  {
   "cell_type": "markdown",
   "id": "0026b913",
   "metadata": {},
   "source": [
    "Big Data is about large data, that can be structured and unstructured. Cybersecurity it's all about security of devices, software, hardware, more precizely, security in Cyber space."
   ]
  },
  {
   "cell_type": "markdown",
   "id": "6c7c3e9d",
   "metadata": {},
   "source": [
    "*Some of the popular languages that Data Scientists use are:*\n",
    "*Python, R, SQL, Java*\n",
    "1. Julia\n",
    "2. Scala\n",
    "3. C/C++\n",
    "4. JavaScript\n",
    "5. Swift\n",
    "6. Go\n",
    "7. MATLAB"
   ]
  },
  {
   "cell_type": "markdown",
   "id": "bf60a887",
   "metadata": {},
   "source": [
    "*Some of the commonly used libraries used by Data Scientist include:*\n",
    "*NumPy, Pandas, Matplotlib*\n",
    "\n",
    "* Scikit-learn\n",
    "* TensorFlow\n",
    "* PyTorch\n",
    "* Natural Language Toolkit (NLTK)\n",
    "* Seaborn"
   ]
  },
  {
   "cell_type": "markdown",
   "id": "d1a70e58",
   "metadata": {},
   "source": [
    "| Data Science Tools   |\n",
    "|----------------- |\n",
    "| Jupyter Notebook |\n",
    "| Apache Spark |\n",
    "| RStudio |"
   ]
  },
  {
   "cell_type": "markdown",
   "id": "636f0a68",
   "metadata": {},
   "source": [
    "### Below are a few examples of evaluating arithmetic expressions in Python."
   ]
  },
  {
   "cell_type": "code",
   "execution_count": 3,
   "id": "0b60b9b3",
   "metadata": {},
   "outputs": [
    {
     "data": {
      "text/plain": [
       "33"
      ]
     },
     "execution_count": 3,
     "metadata": {},
     "output_type": "execute_result"
    }
   ],
   "source": [
    "# This expression starts from inside of the brackets, 4 multiplied by 6, it's 24. And then addition of 24 and 9, which is in total:33\n",
    "(4*6)+9"
   ]
  },
  {
   "cell_type": "code",
   "execution_count": 8,
   "id": "d6b62a4a",
   "metadata": {},
   "outputs": [
    {
     "data": {
      "text/plain": [
       "5.0"
      ]
     },
     "execution_count": 8,
     "metadata": {},
     "output_type": "execute_result"
    }
   ],
   "source": [
    "# This code will convert 300 minutes to hours by using variables: minutes and hours, and then dividing \"minutes\" by \"hours\".\n",
    "minutes = 300\n",
    "hours = minutes / 60\n",
    "hours"
   ]
  },
  {
   "cell_type": "markdown",
   "id": "bada0862",
   "metadata": {},
   "source": [
    "## Author\n",
    "*Nurbergen*"
   ]
  },
  {
   "cell_type": "code",
   "execution_count": null,
   "id": "dc597e95",
   "metadata": {},
   "outputs": [],
   "source": []
  }
 ],
 "metadata": {
  "kernelspec": {
   "display_name": "Python 3 (ipykernel)",
   "language": "python",
   "name": "python3"
  },
  "language_info": {
   "codemirror_mode": {
    "name": "ipython",
    "version": 3
   },
   "file_extension": ".py",
   "mimetype": "text/x-python",
   "name": "python",
   "nbconvert_exporter": "python",
   "pygments_lexer": "ipython3",
   "version": "3.9.7"
  }
 },
 "nbformat": 4,
 "nbformat_minor": 5
}
